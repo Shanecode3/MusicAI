{
  "cells": [
    {
      "cell_type": "markdown",
      "metadata": {},
      "source": ["# Sales Forecast Pipeline"]
    },
    {
      "cell_type": "code",
      "execution_count": null,
      "metadata": {},
      "outputs": [],
      "source": ["print('Sales pipeline ran OK')"]
    }
  ],
  "metadata": {
    "kernelspec": {
      "display_name": "Python 3",
      "language": "python",
      "name": "python3"
    },
    "language_info": {
      "name": "python",
      "version": "3.10"
    }
  },
  "nbformat": 4,
  "nbformat_minor": 5
}

